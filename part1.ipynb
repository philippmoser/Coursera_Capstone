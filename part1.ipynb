{
 "cells": [
  {
   "cell_type": "markdown",
   "metadata": {},
   "source": [
    "### Install necessary dependencies"
   ]
  },
  {
   "cell_type": "code",
   "execution_count": 1,
   "metadata": {},
   "outputs": [
    {
     "name": "stdout",
     "output_type": "stream",
     "text": [
      "Solving environment: done\n",
      "\n",
      "\n",
      "==> WARNING: A newer version of conda exists. <==\n",
      "  current version: 4.5.11\n",
      "  latest version: 4.7.12\n",
      "\n",
      "Please update conda by running\n",
      "\n",
      "    $ conda update -n base -c defaults conda\n",
      "\n",
      "\n",
      "\n",
      "## Package Plan ##\n",
      "\n",
      "  environment location: /home/jupyterlab/conda/envs/python\n",
      "\n",
      "  added / updated specs: \n",
      "    - beautifulsoup4\n",
      "\n",
      "\n",
      "The following packages will be downloaded:\n",
      "\n",
      "    package                    |            build\n",
      "    ---------------------------|-----------------\n",
      "    certifi-2019.9.11          |           py36_0         154 KB\n",
      "    beautifulsoup4-4.8.0       |           py36_0         147 KB\n",
      "    soupsieve-1.9.3            |           py36_0          60 KB\n",
      "    openssl-1.1.1d             |       h7b6447c_3         3.7 MB\n",
      "    ------------------------------------------------------------\n",
      "                                           Total:         4.1 MB\n",
      "\n",
      "The following NEW packages will be INSTALLED:\n",
      "\n",
      "    soupsieve:      1.9.3-py36_0                 \n",
      "\n",
      "The following packages will be UPDATED:\n",
      "\n",
      "    beautifulsoup4: 4.6.3-py37_0                  --> 4.8.0-py36_0     \n",
      "    certifi:        2019.6.16-py36_1  conda-forge --> 2019.9.11-py36_0 \n",
      "    openssl:        1.1.1c-h516909a_0 conda-forge --> 1.1.1d-h7b6447c_3\n",
      "\n",
      "\n",
      "Downloading and Extracting Packages\n",
      "certifi-2019.9.11    | 154 KB    | ##################################### | 100% \n",
      "beautifulsoup4-4.8.0 | 147 KB    | ##################################### | 100% \n",
      "soupsieve-1.9.3      | 60 KB     | ##################################### | 100% \n",
      "openssl-1.1.1d       | 3.7 MB    | ##################################### | 100% \n",
      "Preparing transaction: done\n",
      "Verifying transaction: done\n",
      "Executing transaction: done\n",
      "Solving environment: done\n",
      "\n",
      "\n",
      "==> WARNING: A newer version of conda exists. <==\n",
      "  current version: 4.5.11\n",
      "  latest version: 4.7.12\n",
      "\n",
      "Please update conda by running\n",
      "\n",
      "    $ conda update -n base -c defaults conda\n",
      "\n",
      "\n",
      "\n",
      "## Package Plan ##\n",
      "\n",
      "  environment location: /home/jupyterlab/conda/envs/python\n",
      "\n",
      "  added / updated specs: \n",
      "    - lxml\n",
      "\n",
      "\n",
      "The following packages will be downloaded:\n",
      "\n",
      "    package                    |            build\n",
      "    ---------------------------|-----------------\n",
      "    lxml-4.3.0                 |   py36hefd8a0e_0         1.5 MB\n",
      "\n",
      "The following packages will be UPDATED:\n",
      "\n",
      "    lxml: 4.2.5-py37hefd8a0e_0 --> 4.3.0-py36hefd8a0e_0\n",
      "\n",
      "\n",
      "Downloading and Extracting Packages\n",
      "lxml-4.3.0           | 1.5 MB    | ##################################### | 100% \n",
      "Preparing transaction: done\n",
      "Verifying transaction: done\n",
      "Executing transaction: done\n"
     ]
    }
   ],
   "source": [
    "!conda install -y BeautifulSoup4\n",
    "!conda install -y lxml\n",
    "import pandas as pd\n",
    "import html5lib\n",
    "from bs4 import BeautifulSoup\n",
    "import requests"
   ]
  },
  {
   "cell_type": "markdown",
   "metadata": {},
   "source": [
    "### Get the wikipedia table and store it in My_tabel"
   ]
  },
  {
   "cell_type": "code",
   "execution_count": 17,
   "metadata": {},
   "outputs": [],
   "source": [
    "website_url = requests.get('https://en.wikipedia.org/wiki/List_of_postal_codes_of_Canada:_M').text\n",
    "soup = BeautifulSoup(website_url,'html5lib')\n",
    "#print(soup.prettify())\n",
    "My_table = soup.find('table',{'class':'wikitable sortable'})\n",
    "#print(My_table)\n",
    "links = My_table.find_all('td')\n",
    "#print(links)"
   ]
  },
  {
   "cell_type": "markdown",
   "metadata": {},
   "source": [
    "### Fill Dataframe line  by line taking into account the requirements from coursera"
   ]
  },
  {
   "cell_type": "code",
   "execution_count": 18,
   "metadata": {},
   "outputs": [],
   "source": [
    "#init Dataframe\n",
    "column_names = ['Postalcode','Borough','Neighborhood']\n",
    "neighborhoods = pd.DataFrame(columns=column_names)\n",
    "\n",
    "i=0\n",
    "boroughNotAssigned = False\n",
    "\n",
    "#loop through all entries in table\n",
    "for link in links:\n",
    "    \n",
    "    #in case of postalcode\n",
    "    if( i%3 == 0):\n",
    "        postalcode = str(link).split('>')[1].split('<')[0]\n",
    "        \n",
    "    #in case of borough\n",
    "    if ( i%3 == 1):\n",
    "        \n",
    "        if(\"Not assigned\" in str(link)):\n",
    "            boroughNotAssigned = True\n",
    "            \n",
    "        if(\"href\" in str(link)):\n",
    "            borough = str(link).split('>')[2]\n",
    "            borough = borough.split(\"<\")[0]\n",
    "        else:\n",
    "            borough = str(link).split(\">\")[1].split(\"<\")[0]\n",
    "    \n",
    "    #in case of neighborhood       \n",
    "    if ( i%3 == 2):\n",
    "        \n",
    "        link = (str(link)[:-6])\n",
    "            \n",
    "        if(\"href\" in str(link)):\n",
    "            neighborhood = str(link).split('>')[2]\n",
    "            neighborhood = neighborhood.split(\"<\")[0]\n",
    "        else:\n",
    "            neighborhood = str(link).split(\">\")[1].split(\"<\")[0]\n",
    "         \n",
    "        #if neighborhood not assigned, give it borough\n",
    "        if(neighborhood == \"Not assigned\"):\n",
    "            neighborhood = borough\n",
    "         \n",
    "        # if borough assgined, add entry in Dataframe\n",
    "        if(boroughNotAssigned == False):\n",
    "            \n",
    "            if(sum(neighborhoods[\"Postalcode\"]==postalcode)):\n",
    "                neighborhoods.replace((neighborhoods[neighborhoods[\"Postalcode\"]==postalcode].Neighborhood).values,\n",
    "                                       (neighborhoods[neighborhoods[\"Postalcode\"]==postalcode].Neighborhood).values +', ' + neighborhood,inplace=True)\n",
    "            else:\n",
    "                neighborhoods = neighborhoods.append({'Postalcode': postalcode,\n",
    "                                          'Borough': borough,\n",
    "                                          'Neighborhood': neighborhood}, ignore_index=True)\n",
    "            \n",
    "        boroughNotAssigned = False\n",
    "    i = i +1"
   ]
  },
  {
   "cell_type": "code",
   "execution_count": 19,
   "metadata": {},
   "outputs": [
    {
     "data": {
      "text/plain": [
       "(103, 3)"
      ]
     },
     "execution_count": 19,
     "metadata": {},
     "output_type": "execute_result"
    }
   ],
   "source": [
    "neighborhoods.shape"
   ]
  },
  {
   "cell_type": "code",
   "execution_count": null,
   "metadata": {},
   "outputs": [],
   "source": []
  }
 ],
 "metadata": {
  "kernelspec": {
   "display_name": "Python",
   "language": "python",
   "name": "conda-env-python-py"
  },
  "language_info": {
   "codemirror_mode": {
    "name": "ipython",
    "version": 3
   },
   "file_extension": ".py",
   "mimetype": "text/x-python",
   "name": "python",
   "nbconvert_exporter": "python",
   "pygments_lexer": "ipython3",
   "version": "3.6.7"
  }
 },
 "nbformat": 4,
 "nbformat_minor": 4
}
